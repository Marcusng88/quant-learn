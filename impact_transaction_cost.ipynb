{
 "cells": [
  {
   "cell_type": "code",
   "execution_count": 52,
   "metadata": {},
   "outputs": [],
   "source": [
    "import numpy as np\n",
    "import pandas as pd\n",
    "import yfinance as yf"
   ]
  },
  {
   "cell_type": "code",
   "execution_count": 53,
   "metadata": {},
   "outputs": [],
   "source": [
    "# SPX_data = yf.download('SPX',start='2006-01-01',end='2006-12-31')"
   ]
  },
  {
   "cell_type": "code",
   "execution_count": 54,
   "metadata": {},
   "outputs": [],
   "source": [
    "# SPX_data.to_csv('SPX_1year_data_from_jan2006.csv')"
   ]
  },
  {
   "cell_type": "code",
   "execution_count": 55,
   "metadata": {},
   "outputs": [],
   "source": [
    "df = pd.read_csv('datasets/SPX_1year_data_from_jan2006.csv')"
   ]
  },
  {
   "cell_type": "code",
   "execution_count": 56,
   "metadata": {},
   "outputs": [
    {
     "data": {
      "text/html": [
       "<div>\n",
       "<style scoped>\n",
       "    .dataframe tbody tr th:only-of-type {\n",
       "        vertical-align: middle;\n",
       "    }\n",
       "\n",
       "    .dataframe tbody tr th {\n",
       "        vertical-align: top;\n",
       "    }\n",
       "\n",
       "    .dataframe thead th {\n",
       "        text-align: right;\n",
       "    }\n",
       "</style>\n",
       "<table border=\"1\" class=\"dataframe\">\n",
       "  <thead>\n",
       "    <tr style=\"text-align: right;\">\n",
       "      <th></th>\n",
       "      <th>Date</th>\n",
       "      <th>Open</th>\n",
       "      <th>High</th>\n",
       "      <th>Low</th>\n",
       "      <th>Close</th>\n",
       "      <th>Adj Close</th>\n",
       "      <th>Volume</th>\n",
       "    </tr>\n",
       "  </thead>\n",
       "  <tbody>\n",
       "    <tr>\n",
       "      <th>0</th>\n",
       "      <td>20060103</td>\n",
       "      <td>1.18671</td>\n",
       "      <td>1.18671</td>\n",
       "      <td>1.06179</td>\n",
       "      <td>1.06179</td>\n",
       "      <td>1.06179</td>\n",
       "      <td>19933</td>\n",
       "    </tr>\n",
       "    <tr>\n",
       "      <th>1</th>\n",
       "      <td>20060104</td>\n",
       "      <td>1.06179</td>\n",
       "      <td>1.12425</td>\n",
       "      <td>1.06179</td>\n",
       "      <td>1.12425</td>\n",
       "      <td>1.12425</td>\n",
       "      <td>2562</td>\n",
       "    </tr>\n",
       "    <tr>\n",
       "      <th>2</th>\n",
       "      <td>20060105</td>\n",
       "      <td>1.06179</td>\n",
       "      <td>1.06179</td>\n",
       "      <td>1.06179</td>\n",
       "      <td>1.06179</td>\n",
       "      <td>1.06179</td>\n",
       "      <td>640</td>\n",
       "    </tr>\n",
       "    <tr>\n",
       "      <th>3</th>\n",
       "      <td>20060106</td>\n",
       "      <td>0.99934</td>\n",
       "      <td>1.18671</td>\n",
       "      <td>0.99934</td>\n",
       "      <td>1.18671</td>\n",
       "      <td>1.18671</td>\n",
       "      <td>1921</td>\n",
       "    </tr>\n",
       "    <tr>\n",
       "      <th>4</th>\n",
       "      <td>20060109</td>\n",
       "      <td>1.18671</td>\n",
       "      <td>1.18671</td>\n",
       "      <td>1.06179</td>\n",
       "      <td>1.06179</td>\n",
       "      <td>1.06179</td>\n",
       "      <td>3602</td>\n",
       "    </tr>\n",
       "  </tbody>\n",
       "</table>\n",
       "</div>"
      ],
      "text/plain": [
       "       Date     Open     High      Low    Close  Adj Close  Volume\n",
       "0  20060103  1.18671  1.18671  1.06179  1.06179    1.06179   19933\n",
       "1  20060104  1.06179  1.12425  1.06179  1.12425    1.12425    2562\n",
       "2  20060105  1.06179  1.06179  1.06179  1.06179    1.06179     640\n",
       "3  20060106  0.99934  1.18671  0.99934  1.18671    1.18671    1921\n",
       "4  20060109  1.18671  1.18671  1.06179  1.06179    1.06179    3602"
      ]
     },
     "execution_count": 56,
     "metadata": {},
     "output_type": "execute_result"
    }
   ],
   "source": [
    "df['Date']=df['Date'].str.replace('-','').astype('int')\n",
    "df.head()"
   ]
  },
  {
   "cell_type": "code",
   "execution_count": 57,
   "metadata": {},
   "outputs": [],
   "source": [
    "df.set_index('Date',inplace=True)\n",
    "df.sort_index(inplace =True)"
   ]
  },
  {
   "cell_type": "code",
   "execution_count": 62,
   "metadata": {},
   "outputs": [
    {
     "data": {
      "text/plain": [
       "Date\n",
       "20060103         NaN\n",
       "20060104   -0.151953\n",
       "20060105   -0.152811\n",
       "20060106    0.372814\n",
       "20060109    0.152420\n",
       "              ...   \n",
       "20061222   -0.108666\n",
       "20061226   -0.171604\n",
       "20061227         NaN\n",
       "20061228   -0.074101\n",
       "20061229    0.962020\n",
       "Length: 251, dtype: float64"
      ]
     },
     "execution_count": 62,
     "metadata": {},
     "output_type": "execute_result"
    }
   ],
   "source": [
    "\n",
    "dailyret = df.pct_change()\n",
    "\n",
    "marketDailyret = dailyret.mean(axis=1)\n",
    "marketDailyret.replace([-np.inf,np.inf],np.nan,inplace=True)\n",
    "marketDailyret.fillna(marketDailyret.mean())\n",
    "marketDailyret\n"
   ]
  },
  {
   "cell_type": "code",
   "execution_count": 63,
   "metadata": {},
   "outputs": [],
   "source": [
    "weights = -(np.array(dailyret)-np.array(marketDailyret).reshape((dailyret.shape[0],1)))"
   ]
  },
  {
   "cell_type": "code",
   "execution_count": 64,
   "metadata": {},
   "outputs": [],
   "source": [
    "wtsum = np.nansum(abs(weights),axis =1)"
   ]
  },
  {
   "cell_type": "code",
   "execution_count": 65,
   "metadata": {},
   "outputs": [],
   "source": [
    "weights[wtsum==0,]=0"
   ]
  },
  {
   "cell_type": "code",
   "execution_count": 67,
   "metadata": {},
   "outputs": [],
   "source": [
    "wtsum[wtsum==0]=1"
   ]
  },
  {
   "cell_type": "code",
   "execution_count": 68,
   "metadata": {},
   "outputs": [],
   "source": [
    "weights = weights/ wtsum.reshape((dailyret.shape[0],1))"
   ]
  },
  {
   "cell_type": "code",
   "execution_count": 70,
   "metadata": {},
   "outputs": [],
   "source": [
    "dailypnl = np.nansum(np.array(pd.DataFrame(weights).shift())*np.array(dailyret),axis=1)"
   ]
  },
  {
   "cell_type": "code",
   "execution_count": 72,
   "metadata": {},
   "outputs": [],
   "source": [
    "dailypnl = dailypnl[np.logical_and(df.index>=20060101,df.index<= 20061231)]"
   ]
  },
  {
   "cell_type": "code",
   "execution_count": 75,
   "metadata": {},
   "outputs": [],
   "source": [
    "mean_val = np.mean(dailypnl[np.isfinite(dailypnl)])"
   ]
  },
  {
   "cell_type": "code",
   "execution_count": 76,
   "metadata": {},
   "outputs": [],
   "source": [
    "dailypnl = np.where(np.isinf(dailypnl),mean_val,dailypnl)"
   ]
  },
  {
   "cell_type": "code",
   "execution_count": 77,
   "metadata": {},
   "outputs": [],
   "source": [
    "sharpeRatio = np.sqrt(252)*np.mean(dailypnl)/np.std(dailypnl)"
   ]
  },
  {
   "cell_type": "code",
   "execution_count": 79,
   "metadata": {},
   "outputs": [
    {
     "data": {
      "text/plain": [
       "1.732260880548924"
      ]
     },
     "execution_count": 79,
     "metadata": {},
     "output_type": "execute_result"
    }
   ],
   "source": [
    "sharpeRatio"
   ]
  },
  {
   "cell_type": "code",
   "execution_count": 80,
   "metadata": {},
   "outputs": [],
   "source": [
    "onewaycost = 0.0005"
   ]
  },
  {
   "cell_type": "code",
   "execution_count": 85,
   "metadata": {},
   "outputs": [],
   "source": [
    "weights=weights[np.logical_and(df.index >= 20060101,\n",
    "df.index <= 20061231)]"
   ]
  },
  {
   "cell_type": "code",
   "execution_count": 86,
   "metadata": {},
   "outputs": [],
   "source": [
    "dailypnlminustcost = dailypnl-(np.nansum(abs(weights-np.array(pd.DataFrame(weights).shift())),axis=1)*onewaycost)"
   ]
  },
  {
   "cell_type": "code",
   "execution_count": 87,
   "metadata": {},
   "outputs": [],
   "source": [
    "sharpeRatioMinusTcost = np.sqrt(252)*np.mean(dailypnlminustcost)/np.std(dailypnlminustcost)"
   ]
  },
  {
   "cell_type": "code",
   "execution_count": 88,
   "metadata": {},
   "outputs": [
    {
     "data": {
      "text/plain": [
       "1.7314833806968557"
      ]
     },
     "execution_count": 88,
     "metadata": {},
     "output_type": "execute_result"
    }
   ],
   "source": [
    "sharpeRatioMinusTcost"
   ]
  }
 ],
 "metadata": {
  "kernelspec": {
   "display_name": "Python 3",
   "language": "python",
   "name": "python3"
  },
  "language_info": {
   "codemirror_mode": {
    "name": "ipython",
    "version": 3
   },
   "file_extension": ".py",
   "mimetype": "text/x-python",
   "name": "python",
   "nbconvert_exporter": "python",
   "pygments_lexer": "ipython3",
   "version": "3.12.7"
  }
 },
 "nbformat": 4,
 "nbformat_minor": 2
}
