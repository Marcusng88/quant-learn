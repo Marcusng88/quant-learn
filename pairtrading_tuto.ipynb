{
 "cells": [
  {
   "cell_type": "code",
   "execution_count": 4,
   "metadata": {},
   "outputs": [],
   "source": [
    "import numpy as np\n",
    "import pandas as pd\n",
    "import matplotlib.pyplot as plt\n",
    "import statsmodels.api as sm\n",
    "import yfinance as yf\n"
   ]
  },
  {
   "cell_type": "code",
   "execution_count": null,
   "metadata": {},
   "outputs": [
    {
     "name": "stderr",
     "output_type": "stream",
     "text": [
      "[*********************100%%**********************]  1 of 1 completed\n",
      "[*********************100%%**********************]  1 of 1 completed\n"
     ]
    }
   ],
   "source": [
    "# GLD_data = yf.download('GLD',start = '2021-11-30',end='2024-11-30')\n",
    "# GDX_data = yf.download('GDX',start = '2021-11-30',end='2024-11-30')"
   ]
  },
  {
   "cell_type": "code",
   "execution_count": null,
   "metadata": {},
   "outputs": [],
   "source": [
    "# GLD_data.to_csv('GLD_3years_data_from_nov2021.csv')\n",
    "# GDX_data.to_csv('GDX_3years_data_from_nov2021.csv')"
   ]
  },
  {
   "cell_type": "code",
   "execution_count": 38,
   "metadata": {},
   "outputs": [],
   "source": [
    "df1 = pd.read_csv('datasets/GLD_3years_data_from_nov2021.csv')\n",
    "df2 = pd.read_csv('datasets/GDX_3years_data_from_nov2021.csv')"
   ]
  },
  {
   "cell_type": "code",
   "execution_count": 23,
   "metadata": {},
   "outputs": [],
   "source": [
    "df = pd.merge(df1,df2,on='Date',suffixes=('_GLD','_GDX'))\n",
    "df.set_index('Date',inplace = True)"
   ]
  },
  {
   "cell_type": "code",
   "execution_count": 25,
   "metadata": {},
   "outputs": [],
   "source": [
    "df.sort_index(inplace = True)\n",
    "trainset = np.arange(0,252)\n",
    "testset = np.arange(len(trainset),df.shape[0])"
   ]
  },
  {
   "cell_type": "markdown",
   "metadata": {},
   "source": [
    "OLS is ordinary least square(a statistical method for linear regression)\n",
    "\n",
    "a technique used to model the relationship between one dependent variable (what you are trying to predict) and one or more independent variables (the factors you believe affect the dependent variable).\n",
    "\n",
    "For example, you may want to predict the price of GLD (Gold ETF) based on the price of GDX (gold-mining stocks). You would treat the price of GLD as the dependent variable and the price of GDX as the independent variable.\n",
    "\n",
    "OLS tries to find the best line of fit that minimizes the distance between the predicted values (from the model) and the actual values (from the data). It does this by adjusting the parameters (the slope and intercept) to reduce the total error (the difference between the predicted and actual values)."
   ]
  },
  {
   "cell_type": "code",
   "execution_count": null,
   "metadata": {},
   "outputs": [],
   "source": [
    "#dependent variable(y axis = GLD)\n",
    "y_train = df.loc[:,'Adj Close_GLD'].iloc[trainset]\n",
    "#independent variable(x axis = GDX)\n",
    "x_train = df.loc[:,'Adj Close_GDX'].iloc[trainset]\n",
    "\n"
   ]
  },
  {
   "cell_type": "code",
   "execution_count": null,
   "metadata": {},
   "outputs": [],
   "source": [
    "# add constant to x_train for intercept term in the regression(y intercept)\n",
    "x_train = sm.add_constant(x_train)"
   ]
  },
  {
   "cell_type": "code",
   "execution_count": null,
   "metadata": {},
   "outputs": [],
   "source": [
    "#fit the ols model\n",
    "model = sm.OLS(y_train,x_train)\n",
    "# This fits the model to the training data, finding the optimal coefficients (slope and intercept) \n",
    "# that minimize the difference between the predicted values and the actual values.\n",
    "results =model.fit()\n",
    "\n",
    "#include parameters,intercept and the slope\n",
    "hedgeRatio = results.params"
   ]
  },
  {
   "cell_type": "code",
   "execution_count": 35,
   "metadata": {},
   "outputs": [
    {
     "data": {
      "text/plain": [
       "const            115.322190\n",
       "Adj Close_GDX      1.810762\n",
       "dtype: float64"
      ]
     },
     "execution_count": 35,
     "metadata": {},
     "output_type": "execute_result"
    }
   ],
   "source": [
    "hedgeRatio"
   ]
  },
  {
   "cell_type": "code",
   "execution_count": null,
   "metadata": {},
   "outputs": [],
   "source": []
  }
 ],
 "metadata": {
  "kernelspec": {
   "display_name": "Python 3",
   "language": "python",
   "name": "python3"
  },
  "language_info": {
   "codemirror_mode": {
    "name": "ipython",
    "version": 3
   },
   "file_extension": ".py",
   "mimetype": "text/x-python",
   "name": "python",
   "nbconvert_exporter": "python",
   "pygments_lexer": "ipython3",
   "version": "3.12.7"
  }
 },
 "nbformat": 4,
 "nbformat_minor": 2
}
